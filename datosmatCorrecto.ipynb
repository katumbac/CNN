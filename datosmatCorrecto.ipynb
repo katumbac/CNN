{
 "cells": [
  {
   "cell_type": "markdown",
   "metadata": {},
   "source": [
    "Librerias"
   ]
  },
  {
   "cell_type": "code",
   "execution_count": 173,
   "metadata": {},
   "outputs": [],
   "source": [
    "import os\n",
    "import scipy.io\n",
    "from scipy.io import loadmat\n",
    "import numpy as np\n",
    "import matplotlib.pyplot as plt\n",
    "\n",
    "#CNN\n",
    "import tensorflow as tf\n",
    "import tensorflow as tf\n",
    "from tensorflow.keras import layers, models\n",
    "from tensorflow.keras.models import Model , Sequential\n",
    "from tensorflow.keras.layers import Conv1D, MaxPooling1D, Flatten, Dense\n",
    "import numpy as np"
   ]
  },
  {
   "cell_type": "code",
   "execution_count": 174,
   "metadata": {},
   "outputs": [],
   "source": [
    "ruta = \"datos mat\\Done\""
   ]
  },
  {
   "cell_type": "code",
   "execution_count": 175,
   "metadata": {},
   "outputs": [],
   "source": [
    "# Parámetros del modelo\n",
    "input_shape=(385,16)\n",
    "optimizer_params = {\n",
    "    'learning_rate': 0.001,    'beta_1': 0.9,    'beta_2': 0.999,    'epsilon': 1e-07,\n",
    "    'amsgrad': False,    'weight_decay': None,    'clipnorm': None,    'clipvalue': None,\n",
    "    'global_clipnorm': None,\n",
    "    'use_ema': False,\n",
    "    'ema_momentum': 0.99,\n",
    "    'ema_overwrite_frequency': None,\n",
    "    'loss_scale_factor': None,\n",
    "    'gradient_accumulation_steps': None,\n",
    "    'name': \"adam\"\n",
    "}"
   ]
  },
  {
   "cell_type": "markdown",
   "metadata": {},
   "source": [
    "Funciones"
   ]
  },
  {
   "cell_type": "code",
   "execution_count": 176,
   "metadata": {},
   "outputs": [],
   "source": [
    "#Obtener los eventos\n",
    "def get_egg_processed_t(ruta_evento):\n",
    "    # Cargar datos desde el archivo .mat\n",
    "    mat_data = loadmat(ruta_evento)\n",
    "\n",
    "    # Obtener 'eeg_processed' del diccionario cargado\n",
    "    eeg_processed = mat_data.get('eeg_processed')\n",
    "    eeg_processed_tensor = tf.convert_to_tensor(eeg_processed)\n",
    "\n",
    "    return eeg_processed_tensor"
   ]
  },
  {
   "cell_type": "code",
   "execution_count": 177,
   "metadata": {},
   "outputs": [],
   "source": [
    "def get_event_sujxrun(ruta, sujeto):\n",
    "    eventos_por_mark = {}\n",
    "\n",
    "    for subject in os.listdir(ruta):\n",
    "        if f\"Subject {sujeto}\" in subject:\n",
    "            ruta_subj = os.path.join(ruta, subject)\n",
    "            archivos_suj = os.listdir(ruta_subj)\n",
    "\n",
    "            for run in range(1, 7):  # Iterar sobre los 6 runs\n",
    "                for suj in archivos_suj:\n",
    "                    if f\"run_{run}\" in suj:  # Corregido para iterar sobre todos los runs\n",
    "                        ruta_suj = os.path.join(ruta_subj, suj)\n",
    "                        archivos_mark = os.listdir(ruta_suj)\n",
    "\n",
    "                        for mark in archivos_mark:\n",
    "                            ruta_mark = os.path.join(ruta_suj, mark)\n",
    "                            archivos_event = os.listdir(ruta_mark)\n",
    "\n",
    "                            for event in archivos_event:\n",
    "                                ruta_evento = os.path.join(ruta_mark, event)\n",
    "\n",
    "                                eeg_processed = get_egg_processed_t(ruta_evento)\n",
    "                                if eeg_processed.shape != (0, 16):\n",
    "                                    if mark not in eventos_por_mark:\n",
    "                                        eventos_por_mark[mark] = []\n",
    "                                    eventos_por_mark[mark].append(eeg_processed)\n",
    "                                    \n",
    "   \n",
    "    return eventos_por_mark "
   ]
  },
  {
   "cell_type": "code",
   "execution_count": 178,
   "metadata": {},
   "outputs": [],
   "source": [
    "def datos_x_suj(suj):\n",
    "    events_suj = get_event_sujxrun(ruta, f\"{suj}\")\n",
    "    markers = {\"Marker_1\": [], \"Marker_2\": [], \"Marker_3\": [], \"Marker_4\": [], \"Marker_5\": [], \"Marker_6\": []}\n",
    "    length_datos = {mark: 0 for mark in events_suj}\n",
    "    \n",
    "    for mark, value in events_suj.items():\n",
    "        if mark in markers:\n",
    "            markers[mark].extend(value)  \n",
    "            length_datos[mark] += len(value)\n",
    "    \n",
    "    tensorxsuj={}\n",
    "    \n",
    "    for key, value in markers.items():\n",
    "        tensorxsuj[key] = tf.reshape(tf.convert_to_tensor(value), (length_datos[key], 385, 16))\n",
    "        \n",
    "    return tensorxsuj, length_datos"
   ]
  },
  {
   "cell_type": "code",
   "execution_count": 179,
   "metadata": {},
   "outputs": [],
   "source": [
    "def agrupar_all_suj():\n",
    "    all_markers = None\n",
    "    all_lengths = {}\n",
    "    \n",
    "    for suj in range(1, 7):\n",
    "        tensorxsuj, length_datos = datos_x_suj(suj)\n",
    "        \n",
    "        for marker, tensor in tensorxsuj.items():\n",
    "            if all_markers is None:\n",
    "                all_markers = tensor\n",
    "            else:\n",
    "                all_markers = tf.concat([all_markers, tensor], axis=0)\n",
    "            if marker in all_lengths:\n",
    "                all_lengths[marker] += length_datos[marker]\n",
    "            else:\n",
    "                all_lengths[marker] = length_datos[marker]\n",
    "    \n",
    "    return all_markers, all_lengths"
   ]
  },
  {
   "cell_type": "code",
   "execution_count": 180,
   "metadata": {},
   "outputs": [
    {
     "name": "stdout",
     "output_type": "stream",
     "text": [
      "(2227, 385, 16)\n",
      "{'Marker_1': 331, 'Marker_2': 393, 'Marker_3': 414, 'Marker_4': 402, 'Marker_5': 392, 'Marker_6': 295}\n"
     ]
    }
   ],
   "source": [
    "all_markers, all_lengths = agrupar_all_suj()\n",
    "print(all_markers.shape)\n",
    "print(all_lengths)"
   ]
  },
  {
   "cell_type": "code",
   "execution_count": 181,
   "metadata": {},
   "outputs": [],
   "source": [
    "def get_labels_ohc(marker,length_datos):\n",
    "    # Valores por clase\n",
    "    valores = {\"Marker_1\": 0, \"Marker_2\": 1, \"Marker_3\": 2, \"Marker_4\": 3, \"Marker_5\": 4, \"Marker_6\": 5}\n",
    "    \n",
    "    # Obtener el valor correspondiente al marcador\n",
    "    n = valores[f\"{marker}\"]\n",
    "    \n",
    "    # Codificar las etiquetas utilizando one-hot encoding\n",
    "    one_hot_labels = tf.one_hot(indices=n, depth=6)  # 6 es el número de clases\n",
    "    \n",
    "    # Expandir las dimensiones para tener la forma (length_datos, 6)\n",
    "    expanded_labels = tf.expand_dims(one_hot_labels, axis=0)\n",
    "    expanded_labels = tf.tile(expanded_labels, [length_datos, 1])\n",
    "    \n",
    "    return expanded_labels"
   ]
  },
  {
   "cell_type": "code",
   "execution_count": 182,
   "metadata": {},
   "outputs": [],
   "source": [
    "def all_labels():\n",
    "    n_label=[]\n",
    "    for marker, value in all_lengths.items():\n",
    "        label_marker= get_labels_ohc(marker, value)\n",
    "        n_label.append(label_marker)\n",
    "    \n",
    "    return tf.concat(n_label, axis=0)"
   ]
  },
  {
   "cell_type": "code",
   "execution_count": 183,
   "metadata": {},
   "outputs": [],
   "source": [
    "labels_usar= all_labels()\n",
    "inputs_usar= all_markers"
   ]
  },
  {
   "cell_type": "markdown",
   "metadata": {},
   "source": [
    "MODELO CONV1D"
   ]
  },
  {
   "cell_type": "code",
   "execution_count": 184,
   "metadata": {},
   "outputs": [],
   "source": [
    "from keras.optimizers import Adam\n",
    "\n",
    "def conv1d_model(input_shape):\n",
    "    optimizer = Adam(**optimizer_params)\n",
    "\n",
    "    model = models.Sequential([\n",
    "        layers.Conv1D(64, 3, activation='relu', input_shape=input_shape),\n",
    "        layers.MaxPooling1D(2),\n",
    "        layers.Conv1D(32, 3, activation='relu'),\n",
    "        layers.MaxPooling1D(2),\n",
    "        layers.Flatten(),\n",
    "        layers.Dense(64, activation='relu'),\n",
    "        layers.Dense(6, activation='softmax')\n",
    "    ])\n",
    "    model.compile(optimizer=optimizer,\n",
    "                  loss='categorical_crossentropy',\n",
    "                  metrics=['accuracy'])\n",
    "\n",
    "    return model"
   ]
  },
  {
   "cell_type": "code",
   "execution_count": 185,
   "metadata": {},
   "outputs": [],
   "source": [
    "model = conv1d_model(input_shape)\n"
   ]
  },
  {
   "cell_type": "code",
   "execution_count": 186,
   "metadata": {},
   "outputs": [
    {
     "data": {
      "text/html": [
       "<pre style=\"white-space:pre;overflow-x:auto;line-height:normal;font-family:Menlo,'DejaVu Sans Mono',consolas,'Courier New',monospace\"><span style=\"font-weight: bold\">Model: \"sequential_6\"</span>\n",
       "</pre>\n"
      ],
      "text/plain": [
       "\u001b[1mModel: \"sequential_6\"\u001b[0m\n"
      ]
     },
     "metadata": {},
     "output_type": "display_data"
    },
    {
     "data": {
      "text/html": [
       "<pre style=\"white-space:pre;overflow-x:auto;line-height:normal;font-family:Menlo,'DejaVu Sans Mono',consolas,'Courier New',monospace\">┏━━━━━━━━━━━━━━━━━━━━━━━━━━━━━━━━━┳━━━━━━━━━━━━━━━━━━━━━━━━┳━━━━━━━━━━━━━━━┓\n",
       "┃<span style=\"font-weight: bold\"> Layer (type)                    </span>┃<span style=\"font-weight: bold\"> Output Shape           </span>┃<span style=\"font-weight: bold\">       Param # </span>┃\n",
       "┡━━━━━━━━━━━━━━━━━━━━━━━━━━━━━━━━━╇━━━━━━━━━━━━━━━━━━━━━━━━╇━━━━━━━━━━━━━━━┩\n",
       "│ conv1d_12 (<span style=\"color: #0087ff; text-decoration-color: #0087ff\">Conv1D</span>)              │ (<span style=\"color: #00d7ff; text-decoration-color: #00d7ff\">None</span>, <span style=\"color: #00af00; text-decoration-color: #00af00\">383</span>, <span style=\"color: #00af00; text-decoration-color: #00af00\">64</span>)        │         <span style=\"color: #00af00; text-decoration-color: #00af00\">3,136</span> │\n",
       "├─────────────────────────────────┼────────────────────────┼───────────────┤\n",
       "│ max_pooling1d_12 (<span style=\"color: #0087ff; text-decoration-color: #0087ff\">MaxPooling1D</span>) │ (<span style=\"color: #00d7ff; text-decoration-color: #00d7ff\">None</span>, <span style=\"color: #00af00; text-decoration-color: #00af00\">191</span>, <span style=\"color: #00af00; text-decoration-color: #00af00\">64</span>)        │             <span style=\"color: #00af00; text-decoration-color: #00af00\">0</span> │\n",
       "├─────────────────────────────────┼────────────────────────┼───────────────┤\n",
       "│ conv1d_13 (<span style=\"color: #0087ff; text-decoration-color: #0087ff\">Conv1D</span>)              │ (<span style=\"color: #00d7ff; text-decoration-color: #00d7ff\">None</span>, <span style=\"color: #00af00; text-decoration-color: #00af00\">189</span>, <span style=\"color: #00af00; text-decoration-color: #00af00\">32</span>)        │         <span style=\"color: #00af00; text-decoration-color: #00af00\">6,176</span> │\n",
       "├─────────────────────────────────┼────────────────────────┼───────────────┤\n",
       "│ max_pooling1d_13 (<span style=\"color: #0087ff; text-decoration-color: #0087ff\">MaxPooling1D</span>) │ (<span style=\"color: #00d7ff; text-decoration-color: #00d7ff\">None</span>, <span style=\"color: #00af00; text-decoration-color: #00af00\">94</span>, <span style=\"color: #00af00; text-decoration-color: #00af00\">32</span>)         │             <span style=\"color: #00af00; text-decoration-color: #00af00\">0</span> │\n",
       "├─────────────────────────────────┼────────────────────────┼───────────────┤\n",
       "│ flatten_6 (<span style=\"color: #0087ff; text-decoration-color: #0087ff\">Flatten</span>)             │ (<span style=\"color: #00d7ff; text-decoration-color: #00d7ff\">None</span>, <span style=\"color: #00af00; text-decoration-color: #00af00\">3008</span>)           │             <span style=\"color: #00af00; text-decoration-color: #00af00\">0</span> │\n",
       "├─────────────────────────────────┼────────────────────────┼───────────────┤\n",
       "│ dense_12 (<span style=\"color: #0087ff; text-decoration-color: #0087ff\">Dense</span>)                │ (<span style=\"color: #00d7ff; text-decoration-color: #00d7ff\">None</span>, <span style=\"color: #00af00; text-decoration-color: #00af00\">64</span>)             │       <span style=\"color: #00af00; text-decoration-color: #00af00\">192,576</span> │\n",
       "├─────────────────────────────────┼────────────────────────┼───────────────┤\n",
       "│ dense_13 (<span style=\"color: #0087ff; text-decoration-color: #0087ff\">Dense</span>)                │ (<span style=\"color: #00d7ff; text-decoration-color: #00d7ff\">None</span>, <span style=\"color: #00af00; text-decoration-color: #00af00\">6</span>)              │           <span style=\"color: #00af00; text-decoration-color: #00af00\">390</span> │\n",
       "└─────────────────────────────────┴────────────────────────┴───────────────┘\n",
       "</pre>\n"
      ],
      "text/plain": [
       "┏━━━━━━━━━━━━━━━━━━━━━━━━━━━━━━━━━┳━━━━━━━━━━━━━━━━━━━━━━━━┳━━━━━━━━━━━━━━━┓\n",
       "┃\u001b[1m \u001b[0m\u001b[1mLayer (type)                   \u001b[0m\u001b[1m \u001b[0m┃\u001b[1m \u001b[0m\u001b[1mOutput Shape          \u001b[0m\u001b[1m \u001b[0m┃\u001b[1m \u001b[0m\u001b[1m      Param #\u001b[0m\u001b[1m \u001b[0m┃\n",
       "┡━━━━━━━━━━━━━━━━━━━━━━━━━━━━━━━━━╇━━━━━━━━━━━━━━━━━━━━━━━━╇━━━━━━━━━━━━━━━┩\n",
       "│ conv1d_12 (\u001b[38;5;33mConv1D\u001b[0m)              │ (\u001b[38;5;45mNone\u001b[0m, \u001b[38;5;34m383\u001b[0m, \u001b[38;5;34m64\u001b[0m)        │         \u001b[38;5;34m3,136\u001b[0m │\n",
       "├─────────────────────────────────┼────────────────────────┼───────────────┤\n",
       "│ max_pooling1d_12 (\u001b[38;5;33mMaxPooling1D\u001b[0m) │ (\u001b[38;5;45mNone\u001b[0m, \u001b[38;5;34m191\u001b[0m, \u001b[38;5;34m64\u001b[0m)        │             \u001b[38;5;34m0\u001b[0m │\n",
       "├─────────────────────────────────┼────────────────────────┼───────────────┤\n",
       "│ conv1d_13 (\u001b[38;5;33mConv1D\u001b[0m)              │ (\u001b[38;5;45mNone\u001b[0m, \u001b[38;5;34m189\u001b[0m, \u001b[38;5;34m32\u001b[0m)        │         \u001b[38;5;34m6,176\u001b[0m │\n",
       "├─────────────────────────────────┼────────────────────────┼───────────────┤\n",
       "│ max_pooling1d_13 (\u001b[38;5;33mMaxPooling1D\u001b[0m) │ (\u001b[38;5;45mNone\u001b[0m, \u001b[38;5;34m94\u001b[0m, \u001b[38;5;34m32\u001b[0m)         │             \u001b[38;5;34m0\u001b[0m │\n",
       "├─────────────────────────────────┼────────────────────────┼───────────────┤\n",
       "│ flatten_6 (\u001b[38;5;33mFlatten\u001b[0m)             │ (\u001b[38;5;45mNone\u001b[0m, \u001b[38;5;34m3008\u001b[0m)           │             \u001b[38;5;34m0\u001b[0m │\n",
       "├─────────────────────────────────┼────────────────────────┼───────────────┤\n",
       "│ dense_12 (\u001b[38;5;33mDense\u001b[0m)                │ (\u001b[38;5;45mNone\u001b[0m, \u001b[38;5;34m64\u001b[0m)             │       \u001b[38;5;34m192,576\u001b[0m │\n",
       "├─────────────────────────────────┼────────────────────────┼───────────────┤\n",
       "│ dense_13 (\u001b[38;5;33mDense\u001b[0m)                │ (\u001b[38;5;45mNone\u001b[0m, \u001b[38;5;34m6\u001b[0m)              │           \u001b[38;5;34m390\u001b[0m │\n",
       "└─────────────────────────────────┴────────────────────────┴───────────────┘\n"
      ]
     },
     "metadata": {},
     "output_type": "display_data"
    },
    {
     "data": {
      "text/html": [
       "<pre style=\"white-space:pre;overflow-x:auto;line-height:normal;font-family:Menlo,'DejaVu Sans Mono',consolas,'Courier New',monospace\"><span style=\"font-weight: bold\"> Total params: </span><span style=\"color: #00af00; text-decoration-color: #00af00\">202,278</span> (790.15 KB)\n",
       "</pre>\n"
      ],
      "text/plain": [
       "\u001b[1m Total params: \u001b[0m\u001b[38;5;34m202,278\u001b[0m (790.15 KB)\n"
      ]
     },
     "metadata": {},
     "output_type": "display_data"
    },
    {
     "data": {
      "text/html": [
       "<pre style=\"white-space:pre;overflow-x:auto;line-height:normal;font-family:Menlo,'DejaVu Sans Mono',consolas,'Courier New',monospace\"><span style=\"font-weight: bold\"> Trainable params: </span><span style=\"color: #00af00; text-decoration-color: #00af00\">202,278</span> (790.15 KB)\n",
       "</pre>\n"
      ],
      "text/plain": [
       "\u001b[1m Trainable params: \u001b[0m\u001b[38;5;34m202,278\u001b[0m (790.15 KB)\n"
      ]
     },
     "metadata": {},
     "output_type": "display_data"
    },
    {
     "data": {
      "text/html": [
       "<pre style=\"white-space:pre;overflow-x:auto;line-height:normal;font-family:Menlo,'DejaVu Sans Mono',consolas,'Courier New',monospace\"><span style=\"font-weight: bold\"> Non-trainable params: </span><span style=\"color: #00af00; text-decoration-color: #00af00\">0</span> (0.00 B)\n",
       "</pre>\n"
      ],
      "text/plain": [
       "\u001b[1m Non-trainable params: \u001b[0m\u001b[38;5;34m0\u001b[0m (0.00 B)\n"
      ]
     },
     "metadata": {},
     "output_type": "display_data"
    }
   ],
   "source": [
    "model.summary()"
   ]
  },
  {
   "cell_type": "code",
   "execution_count": 187,
   "metadata": {},
   "outputs": [],
   "source": [
    "import numpy as np\n",
    "from sklearn.model_selection import train_test_split\n",
    "\n",
    "train_inputs_numpy = inputs_usar.numpy()\n",
    "train_labels_numpy = labels_usar.numpy()\n",
    "\n",
    "# Dividir los datos en conjuntos de entrenamiento y prueba\n",
    "train_inputs, val_inputs, train_labels, val_labels = train_test_split(\n",
    "    train_inputs_numpy, train_labels_numpy, test_size=0.2)\n"
   ]
  },
  {
   "cell_type": "code",
   "execution_count": 188,
   "metadata": {},
   "outputs": [
    {
     "name": "stdout",
     "output_type": "stream",
     "text": [
      "Epoch 1/50\n",
      "\u001b[1m112/112\u001b[0m \u001b[32m━━━━━━━━━━━━━━━━━━━━\u001b[0m\u001b[37m\u001b[0m \u001b[1m2s\u001b[0m 8ms/step - accuracy: 0.2871 - loss: 1.6496 - val_accuracy: 0.5650 - val_loss: 1.1006\n",
      "Epoch 2/50\n",
      "\u001b[1m112/112\u001b[0m \u001b[32m━━━━━━━━━━━━━━━━━━━━\u001b[0m\u001b[37m\u001b[0m \u001b[1m1s\u001b[0m 7ms/step - accuracy: 0.6311 - loss: 0.9275 - val_accuracy: 0.6211 - val_loss: 0.9069\n",
      "Epoch 3/50\n",
      "\u001b[1m112/112\u001b[0m \u001b[32m━━━━━━━━━━━━━━━━━━━━\u001b[0m\u001b[37m\u001b[0m \u001b[1m1s\u001b[0m 6ms/step - accuracy: 0.7411 - loss: 0.6428 - val_accuracy: 0.6345 - val_loss: 0.7521\n",
      "Epoch 4/50\n",
      "\u001b[1m112/112\u001b[0m \u001b[32m━━━━━━━━━━━━━━━━━━━━\u001b[0m\u001b[37m\u001b[0m \u001b[1m1s\u001b[0m 6ms/step - accuracy: 0.7597 - loss: 0.5571 - val_accuracy: 0.6749 - val_loss: 0.6577\n",
      "Epoch 5/50\n",
      "\u001b[1m112/112\u001b[0m \u001b[32m━━━━━━━━━━━━━━━━━━━━\u001b[0m\u001b[37m\u001b[0m \u001b[1m1s\u001b[0m 6ms/step - accuracy: 0.8387 - loss: 0.4337 - val_accuracy: 0.6726 - val_loss: 0.7255\n",
      "Epoch 6/50\n",
      "\u001b[1m112/112\u001b[0m \u001b[32m━━━━━━━━━━━━━━━━━━━━\u001b[0m\u001b[37m\u001b[0m \u001b[1m1s\u001b[0m 6ms/step - accuracy: 0.8544 - loss: 0.3791 - val_accuracy: 0.6951 - val_loss: 0.7289\n",
      "Epoch 7/50\n",
      "\u001b[1m112/112\u001b[0m \u001b[32m━━━━━━━━━━━━━━━━━━━━\u001b[0m\u001b[37m\u001b[0m \u001b[1m1s\u001b[0m 7ms/step - accuracy: 0.8927 - loss: 0.2978 - val_accuracy: 0.6749 - val_loss: 0.7839\n",
      "Epoch 8/50\n",
      "\u001b[1m112/112\u001b[0m \u001b[32m━━━━━━━━━━━━━━━━━━━━\u001b[0m\u001b[37m\u001b[0m \u001b[1m1s\u001b[0m 6ms/step - accuracy: 0.9063 - loss: 0.2720 - val_accuracy: 0.6592 - val_loss: 0.7948\n",
      "Epoch 9/50\n",
      "\u001b[1m112/112\u001b[0m \u001b[32m━━━━━━━━━━━━━━━━━━━━\u001b[0m\u001b[37m\u001b[0m \u001b[1m1s\u001b[0m 6ms/step - accuracy: 0.9248 - loss: 0.2080 - val_accuracy: 0.6883 - val_loss: 0.7652\n",
      "Epoch 10/50\n",
      "\u001b[1m112/112\u001b[0m \u001b[32m━━━━━━━━━━━━━━━━━━━━\u001b[0m\u001b[37m\u001b[0m \u001b[1m1s\u001b[0m 6ms/step - accuracy: 0.9500 - loss: 0.1658 - val_accuracy: 0.6906 - val_loss: 0.8366\n",
      "Epoch 11/50\n",
      "\u001b[1m112/112\u001b[0m \u001b[32m━━━━━━━━━━━━━━━━━━━━\u001b[0m\u001b[37m\u001b[0m \u001b[1m1s\u001b[0m 6ms/step - accuracy: 0.9699 - loss: 0.1265 - val_accuracy: 0.6726 - val_loss: 1.0327\n",
      "Epoch 12/50\n",
      "\u001b[1m112/112\u001b[0m \u001b[32m━━━━━━━━━━━━━━━━━━━━\u001b[0m\u001b[37m\u001b[0m \u001b[1m1s\u001b[0m 7ms/step - accuracy: 0.9879 - loss: 0.0725 - val_accuracy: 0.6883 - val_loss: 0.9470\n",
      "Epoch 13/50\n",
      "\u001b[1m112/112\u001b[0m \u001b[32m━━━━━━━━━━━━━━━━━━━━\u001b[0m\u001b[37m\u001b[0m \u001b[1m1s\u001b[0m 6ms/step - accuracy: 0.9946 - loss: 0.0439 - val_accuracy: 0.6883 - val_loss: 0.9600\n",
      "Epoch 14/50\n",
      "\u001b[1m112/112\u001b[0m \u001b[32m━━━━━━━━━━━━━━━━━━━━\u001b[0m\u001b[37m\u001b[0m \u001b[1m1s\u001b[0m 6ms/step - accuracy: 0.9958 - loss: 0.0401 - val_accuracy: 0.6928 - val_loss: 1.1036\n",
      "Epoch 15/50\n",
      "\u001b[1m112/112\u001b[0m \u001b[32m━━━━━━━━━━━━━━━━━━━━\u001b[0m\u001b[37m\u001b[0m \u001b[1m1s\u001b[0m 6ms/step - accuracy: 0.9964 - loss: 0.0246 - val_accuracy: 0.7220 - val_loss: 1.0608\n",
      "Epoch 16/50\n",
      "\u001b[1m112/112\u001b[0m \u001b[32m━━━━━━━━━━━━━━━━━━━━\u001b[0m\u001b[37m\u001b[0m \u001b[1m1s\u001b[0m 6ms/step - accuracy: 0.9935 - loss: 0.0299 - val_accuracy: 0.6457 - val_loss: 1.1530\n",
      "Epoch 17/50\n",
      "\u001b[1m112/112\u001b[0m \u001b[32m━━━━━━━━━━━━━━━━━━━━\u001b[0m\u001b[37m\u001b[0m \u001b[1m1s\u001b[0m 7ms/step - accuracy: 0.9581 - loss: 0.1205 - val_accuracy: 0.6906 - val_loss: 1.0526\n",
      "Epoch 18/50\n",
      "\u001b[1m112/112\u001b[0m \u001b[32m━━━━━━━━━━━━━━━━━━━━\u001b[0m\u001b[37m\u001b[0m \u001b[1m1s\u001b[0m 6ms/step - accuracy: 0.9940 - loss: 0.0312 - val_accuracy: 0.6794 - val_loss: 1.2701\n",
      "Epoch 19/50\n",
      "\u001b[1m112/112\u001b[0m \u001b[32m━━━━━━━━━━━━━━━━━━━━\u001b[0m\u001b[37m\u001b[0m \u001b[1m1s\u001b[0m 6ms/step - accuracy: 0.9756 - loss: 0.0642 - val_accuracy: 0.7242 - val_loss: 1.1289\n",
      "Epoch 20/50\n",
      "\u001b[1m112/112\u001b[0m \u001b[32m━━━━━━━━━━━━━━━━━━━━\u001b[0m\u001b[37m\u001b[0m \u001b[1m1s\u001b[0m 6ms/step - accuracy: 0.9956 - loss: 0.0199 - val_accuracy: 0.6906 - val_loss: 1.1405\n",
      "Epoch 21/50\n",
      "\u001b[1m112/112\u001b[0m \u001b[32m━━━━━━━━━━━━━━━━━━━━\u001b[0m\u001b[37m\u001b[0m \u001b[1m1s\u001b[0m 7ms/step - accuracy: 1.0000 - loss: 0.0080 - val_accuracy: 0.6951 - val_loss: 1.2395\n",
      "Epoch 22/50\n",
      "\u001b[1m112/112\u001b[0m \u001b[32m━━━━━━━━━━━━━━━━━━━━\u001b[0m\u001b[37m\u001b[0m \u001b[1m1s\u001b[0m 6ms/step - accuracy: 1.0000 - loss: 0.0036 - val_accuracy: 0.7085 - val_loss: 1.2294\n",
      "Epoch 23/50\n",
      "\u001b[1m112/112\u001b[0m \u001b[32m━━━━━━━━━━━━━━━━━━━━\u001b[0m\u001b[37m\u001b[0m \u001b[1m1s\u001b[0m 6ms/step - accuracy: 1.0000 - loss: 0.0024 - val_accuracy: 0.6996 - val_loss: 1.2629\n",
      "Epoch 24/50\n",
      "\u001b[1m112/112\u001b[0m \u001b[32m━━━━━━━━━━━━━━━━━━━━\u001b[0m\u001b[37m\u001b[0m \u001b[1m1s\u001b[0m 6ms/step - accuracy: 1.0000 - loss: 0.0021 - val_accuracy: 0.6928 - val_loss: 1.2931\n",
      "Epoch 25/50\n",
      "\u001b[1m112/112\u001b[0m \u001b[32m━━━━━━━━━━━━━━━━━━━━\u001b[0m\u001b[37m\u001b[0m \u001b[1m1s\u001b[0m 7ms/step - accuracy: 1.0000 - loss: 0.0015 - val_accuracy: 0.6951 - val_loss: 1.3250\n",
      "Epoch 26/50\n",
      "\u001b[1m112/112\u001b[0m \u001b[32m━━━━━━━━━━━━━━━━━━━━\u001b[0m\u001b[37m\u001b[0m \u001b[1m1s\u001b[0m 6ms/step - accuracy: 1.0000 - loss: 0.0014 - val_accuracy: 0.6996 - val_loss: 1.3486\n",
      "Epoch 27/50\n",
      "\u001b[1m112/112\u001b[0m \u001b[32m━━━━━━━━━━━━━━━━━━━━\u001b[0m\u001b[37m\u001b[0m \u001b[1m1s\u001b[0m 6ms/step - accuracy: 1.0000 - loss: 0.0012 - val_accuracy: 0.7018 - val_loss: 1.3816\n",
      "Epoch 28/50\n",
      "\u001b[1m112/112\u001b[0m \u001b[32m━━━━━━━━━━━━━━━━━━━━\u001b[0m\u001b[37m\u001b[0m \u001b[1m1s\u001b[0m 6ms/step - accuracy: 1.0000 - loss: 0.0010 - val_accuracy: 0.6928 - val_loss: 1.3987\n",
      "Epoch 29/50\n",
      "\u001b[1m112/112\u001b[0m \u001b[32m━━━━━━━━━━━━━━━━━━━━\u001b[0m\u001b[37m\u001b[0m \u001b[1m1s\u001b[0m 6ms/step - accuracy: 1.0000 - loss: 0.0011 - val_accuracy: 0.6951 - val_loss: 1.4128\n",
      "Epoch 30/50\n",
      "\u001b[1m112/112\u001b[0m \u001b[32m━━━━━━━━━━━━━━━━━━━━\u001b[0m\u001b[37m\u001b[0m \u001b[1m1s\u001b[0m 7ms/step - accuracy: 1.0000 - loss: 9.2300e-04 - val_accuracy: 0.6973 - val_loss: 1.4352\n",
      "Epoch 31/50\n",
      "\u001b[1m112/112\u001b[0m \u001b[32m━━━━━━━━━━━━━━━━━━━━\u001b[0m\u001b[37m\u001b[0m \u001b[1m1s\u001b[0m 6ms/step - accuracy: 1.0000 - loss: 7.9435e-04 - val_accuracy: 0.6996 - val_loss: 1.4444\n",
      "Epoch 32/50\n",
      "\u001b[1m112/112\u001b[0m \u001b[32m━━━━━━━━━━━━━━━━━━━━\u001b[0m\u001b[37m\u001b[0m \u001b[1m1s\u001b[0m 6ms/step - accuracy: 1.0000 - loss: 7.6459e-04 - val_accuracy: 0.6973 - val_loss: 1.4412\n",
      "Epoch 33/50\n",
      "\u001b[1m112/112\u001b[0m \u001b[32m━━━━━━━━━━━━━━━━━━━━\u001b[0m\u001b[37m\u001b[0m \u001b[1m1s\u001b[0m 6ms/step - accuracy: 1.0000 - loss: 6.3408e-04 - val_accuracy: 0.7018 - val_loss: 1.4804\n",
      "Epoch 34/50\n",
      "\u001b[1m112/112\u001b[0m \u001b[32m━━━━━━━━━━━━━━━━━━━━\u001b[0m\u001b[37m\u001b[0m \u001b[1m1s\u001b[0m 7ms/step - accuracy: 1.0000 - loss: 6.2135e-04 - val_accuracy: 0.6951 - val_loss: 1.4950\n",
      "Epoch 35/50\n",
      "\u001b[1m112/112\u001b[0m \u001b[32m━━━━━━━━━━━━━━━━━━━━\u001b[0m\u001b[37m\u001b[0m \u001b[1m1s\u001b[0m 6ms/step - accuracy: 1.0000 - loss: 5.2307e-04 - val_accuracy: 0.6951 - val_loss: 1.5057\n",
      "Epoch 36/50\n",
      "\u001b[1m112/112\u001b[0m \u001b[32m━━━━━━━━━━━━━━━━━━━━\u001b[0m\u001b[37m\u001b[0m \u001b[1m1s\u001b[0m 6ms/step - accuracy: 1.0000 - loss: 5.4233e-04 - val_accuracy: 0.6973 - val_loss: 1.5227\n",
      "Epoch 37/50\n",
      "\u001b[1m112/112\u001b[0m \u001b[32m━━━━━━━━━━━━━━━━━━━━\u001b[0m\u001b[37m\u001b[0m \u001b[1m1s\u001b[0m 6ms/step - accuracy: 1.0000 - loss: 4.6602e-04 - val_accuracy: 0.7018 - val_loss: 1.5219\n",
      "Epoch 38/50\n",
      "\u001b[1m112/112\u001b[0m \u001b[32m━━━━━━━━━━━━━━━━━━━━\u001b[0m\u001b[37m\u001b[0m \u001b[1m1s\u001b[0m 7ms/step - accuracy: 1.0000 - loss: 4.2209e-04 - val_accuracy: 0.6973 - val_loss: 1.5507\n",
      "Epoch 39/50\n",
      "\u001b[1m112/112\u001b[0m \u001b[32m━━━━━━━━━━━━━━━━━━━━\u001b[0m\u001b[37m\u001b[0m \u001b[1m1s\u001b[0m 6ms/step - accuracy: 1.0000 - loss: 3.9800e-04 - val_accuracy: 0.7040 - val_loss: 1.5535\n",
      "Epoch 40/50\n",
      "\u001b[1m112/112\u001b[0m \u001b[32m━━━━━━━━━━━━━━━━━━━━\u001b[0m\u001b[37m\u001b[0m \u001b[1m1s\u001b[0m 6ms/step - accuracy: 1.0000 - loss: 3.4692e-04 - val_accuracy: 0.6996 - val_loss: 1.5646\n",
      "Epoch 41/50\n",
      "\u001b[1m112/112\u001b[0m \u001b[32m━━━━━━━━━━━━━━━━━━━━\u001b[0m\u001b[37m\u001b[0m \u001b[1m1s\u001b[0m 6ms/step - accuracy: 1.0000 - loss: 3.1706e-04 - val_accuracy: 0.7040 - val_loss: 1.5765\n",
      "Epoch 42/50\n",
      "\u001b[1m112/112\u001b[0m \u001b[32m━━━━━━━━━━━━━━━━━━━━\u001b[0m\u001b[37m\u001b[0m \u001b[1m1s\u001b[0m 7ms/step - accuracy: 1.0000 - loss: 3.0938e-04 - val_accuracy: 0.7018 - val_loss: 1.5916\n",
      "Epoch 43/50\n",
      "\u001b[1m112/112\u001b[0m \u001b[32m━━━━━━━━━━━━━━━━━━━━\u001b[0m\u001b[37m\u001b[0m \u001b[1m1s\u001b[0m 6ms/step - accuracy: 1.0000 - loss: 2.7147e-04 - val_accuracy: 0.7018 - val_loss: 1.6129\n",
      "Epoch 44/50\n",
      "\u001b[1m112/112\u001b[0m \u001b[32m━━━━━━━━━━━━━━━━━━━━\u001b[0m\u001b[37m\u001b[0m \u001b[1m1s\u001b[0m 6ms/step - accuracy: 1.0000 - loss: 2.8703e-04 - val_accuracy: 0.6996 - val_loss: 1.6200\n",
      "Epoch 45/50\n",
      "\u001b[1m112/112\u001b[0m \u001b[32m━━━━━━━━━━━━━━━━━━━━\u001b[0m\u001b[37m\u001b[0m \u001b[1m1s\u001b[0m 6ms/step - accuracy: 1.0000 - loss: 2.4463e-04 - val_accuracy: 0.7018 - val_loss: 1.6325\n",
      "Epoch 46/50\n",
      "\u001b[1m112/112\u001b[0m \u001b[32m━━━━━━━━━━━━━━━━━━━━\u001b[0m\u001b[37m\u001b[0m \u001b[1m1s\u001b[0m 7ms/step - accuracy: 1.0000 - loss: 2.4200e-04 - val_accuracy: 0.7018 - val_loss: 1.6446\n",
      "Epoch 47/50\n",
      "\u001b[1m112/112\u001b[0m \u001b[32m━━━━━━━━━━━━━━━━━━━━\u001b[0m\u001b[37m\u001b[0m \u001b[1m1s\u001b[0m 6ms/step - accuracy: 1.0000 - loss: 2.1060e-04 - val_accuracy: 0.7018 - val_loss: 1.6520\n",
      "Epoch 48/50\n",
      "\u001b[1m112/112\u001b[0m \u001b[32m━━━━━━━━━━━━━━━━━━━━\u001b[0m\u001b[37m\u001b[0m \u001b[1m1s\u001b[0m 6ms/step - accuracy: 1.0000 - loss: 2.0108e-04 - val_accuracy: 0.7018 - val_loss: 1.6785\n",
      "Epoch 49/50\n",
      "\u001b[1m112/112\u001b[0m \u001b[32m━━━━━━━━━━━━━━━━━━━━\u001b[0m\u001b[37m\u001b[0m \u001b[1m1s\u001b[0m 6ms/step - accuracy: 1.0000 - loss: 1.9365e-04 - val_accuracy: 0.7085 - val_loss: 1.6835\n",
      "Epoch 50/50\n",
      "\u001b[1m112/112\u001b[0m \u001b[32m━━━━━━━━━━━━━━━━━━━━\u001b[0m\u001b[37m\u001b[0m \u001b[1m1s\u001b[0m 7ms/step - accuracy: 1.0000 - loss: 1.8163e-04 - val_accuracy: 0.7040 - val_loss: 1.6907\n"
     ]
    }
   ],
   "source": [
    "# Entrenamiento del modelo\n",
    "history = model.fit(train_inputs, train_labels, epochs=50, batch_size=16, validation_data=(val_inputs, val_labels))"
   ]
  },
  {
   "cell_type": "code",
   "execution_count": 189,
   "metadata": {},
   "outputs": [
    {
     "name": "stdout",
     "output_type": "stream",
     "text": [
      "Epoch 1/50\n",
      "\u001b[1m112/112\u001b[0m \u001b[32m━━━━━━━━━━━━━━━━━━━━\u001b[0m\u001b[37m\u001b[0m \u001b[1m1s\u001b[0m 7ms/step - accuracy: 1.0000 - loss: 1.5742e-04 - val_accuracy: 0.7018 - val_loss: 1.7067\n",
      "Epoch 2/50\n",
      "\u001b[1m112/112\u001b[0m \u001b[32m━━━━━━━━━━━━━━━━━━━━\u001b[0m\u001b[37m\u001b[0m \u001b[1m1s\u001b[0m 6ms/step - accuracy: 1.0000 - loss: 1.4583e-04 - val_accuracy: 0.6996 - val_loss: 1.7223\n",
      "Epoch 3/50\n",
      "\u001b[1m112/112\u001b[0m \u001b[32m━━━━━━━━━━━━━━━━━━━━\u001b[0m\u001b[37m\u001b[0m \u001b[1m1s\u001b[0m 7ms/step - accuracy: 1.0000 - loss: 1.3423e-04 - val_accuracy: 0.7085 - val_loss: 1.7308\n",
      "Epoch 4/50\n",
      "\u001b[1m112/112\u001b[0m \u001b[32m━━━━━━━━━━━━━━━━━━━━\u001b[0m\u001b[37m\u001b[0m \u001b[1m1s\u001b[0m 6ms/step - accuracy: 1.0000 - loss: 1.2299e-04 - val_accuracy: 0.7018 - val_loss: 1.7551\n",
      "Epoch 5/50\n",
      "\u001b[1m112/112\u001b[0m \u001b[32m━━━━━━━━━━━━━━━━━━━━\u001b[0m\u001b[37m\u001b[0m \u001b[1m1s\u001b[0m 6ms/step - accuracy: 1.0000 - loss: 1.2051e-04 - val_accuracy: 0.6973 - val_loss: 1.7517\n",
      "Epoch 6/50\n",
      "\u001b[1m112/112\u001b[0m \u001b[32m━━━━━━━━━━━━━━━━━━━━\u001b[0m\u001b[37m\u001b[0m \u001b[1m1s\u001b[0m 6ms/step - accuracy: 1.0000 - loss: 1.1214e-04 - val_accuracy: 0.7018 - val_loss: 1.7715\n",
      "Epoch 7/50\n",
      "\u001b[1m112/112\u001b[0m \u001b[32m━━━━━━━━━━━━━━━━━━━━\u001b[0m\u001b[37m\u001b[0m \u001b[1m1s\u001b[0m 7ms/step - accuracy: 1.0000 - loss: 1.0698e-04 - val_accuracy: 0.7018 - val_loss: 1.7843\n",
      "Epoch 8/50\n",
      "\u001b[1m112/112\u001b[0m \u001b[32m━━━━━━━━━━━━━━━━━━━━\u001b[0m\u001b[37m\u001b[0m \u001b[1m1s\u001b[0m 7ms/step - accuracy: 1.0000 - loss: 9.7078e-05 - val_accuracy: 0.7063 - val_loss: 1.7995\n",
      "Epoch 9/50\n",
      "\u001b[1m112/112\u001b[0m \u001b[32m━━━━━━━━━━━━━━━━━━━━\u001b[0m\u001b[37m\u001b[0m \u001b[1m1s\u001b[0m 6ms/step - accuracy: 1.0000 - loss: 8.8972e-05 - val_accuracy: 0.7040 - val_loss: 1.8022\n",
      "Epoch 10/50\n",
      "\u001b[1m112/112\u001b[0m \u001b[32m━━━━━━━━━━━━━━━━━━━━\u001b[0m\u001b[37m\u001b[0m \u001b[1m1s\u001b[0m 6ms/step - accuracy: 1.0000 - loss: 8.3863e-05 - val_accuracy: 0.7108 - val_loss: 1.8204\n",
      "Epoch 11/50\n",
      "\u001b[1m112/112\u001b[0m \u001b[32m━━━━━━━━━━━━━━━━━━━━\u001b[0m\u001b[37m\u001b[0m \u001b[1m1s\u001b[0m 6ms/step - accuracy: 1.0000 - loss: 8.0840e-05 - val_accuracy: 0.7040 - val_loss: 1.8275\n",
      "Epoch 12/50\n",
      "\u001b[1m112/112\u001b[0m \u001b[32m━━━━━━━━━━━━━━━━━━━━\u001b[0m\u001b[37m\u001b[0m \u001b[1m1s\u001b[0m 7ms/step - accuracy: 1.0000 - loss: 7.8598e-05 - val_accuracy: 0.6996 - val_loss: 1.8343\n",
      "Epoch 13/50\n",
      "\u001b[1m112/112\u001b[0m \u001b[32m━━━━━━━━━━━━━━━━━━━━\u001b[0m\u001b[37m\u001b[0m \u001b[1m1s\u001b[0m 7ms/step - accuracy: 1.0000 - loss: 7.2707e-05 - val_accuracy: 0.6996 - val_loss: 1.8589\n",
      "Epoch 14/50\n",
      "\u001b[1m112/112\u001b[0m \u001b[32m━━━━━━━━━━━━━━━━━━━━\u001b[0m\u001b[37m\u001b[0m \u001b[1m1s\u001b[0m 6ms/step - accuracy: 1.0000 - loss: 6.8455e-05 - val_accuracy: 0.7085 - val_loss: 1.8717\n",
      "Epoch 15/50\n",
      "\u001b[1m112/112\u001b[0m \u001b[32m━━━━━━━━━━━━━━━━━━━━\u001b[0m\u001b[37m\u001b[0m \u001b[1m1s\u001b[0m 6ms/step - accuracy: 1.0000 - loss: 6.3466e-05 - val_accuracy: 0.7018 - val_loss: 1.8748\n",
      "Epoch 16/50\n",
      "\u001b[1m112/112\u001b[0m \u001b[32m━━━━━━━━━━━━━━━━━━━━\u001b[0m\u001b[37m\u001b[0m \u001b[1m1s\u001b[0m 7ms/step - accuracy: 1.0000 - loss: 5.4173e-05 - val_accuracy: 0.7063 - val_loss: 1.8925\n",
      "Epoch 17/50\n",
      "\u001b[1m112/112\u001b[0m \u001b[32m━━━━━━━━━━━━━━━━━━━━\u001b[0m\u001b[37m\u001b[0m \u001b[1m1s\u001b[0m 6ms/step - accuracy: 1.0000 - loss: 5.2777e-05 - val_accuracy: 0.7085 - val_loss: 1.9176\n",
      "Epoch 18/50\n",
      "\u001b[1m112/112\u001b[0m \u001b[32m━━━━━━━━━━━━━━━━━━━━\u001b[0m\u001b[37m\u001b[0m \u001b[1m1s\u001b[0m 7ms/step - accuracy: 1.0000 - loss: 5.3903e-05 - val_accuracy: 0.7063 - val_loss: 1.9192\n",
      "Epoch 19/50\n",
      "\u001b[1m112/112\u001b[0m \u001b[32m━━━━━━━━━━━━━━━━━━━━\u001b[0m\u001b[37m\u001b[0m \u001b[1m1s\u001b[0m 8ms/step - accuracy: 1.0000 - loss: 4.9049e-05 - val_accuracy: 0.6996 - val_loss: 1.9256\n",
      "Epoch 20/50\n",
      "\u001b[1m112/112\u001b[0m \u001b[32m━━━━━━━━━━━━━━━━━━━━\u001b[0m\u001b[37m\u001b[0m \u001b[1m1s\u001b[0m 9ms/step - accuracy: 1.0000 - loss: 4.5555e-05 - val_accuracy: 0.7040 - val_loss: 1.9432\n",
      "Epoch 21/50\n",
      "\u001b[1m112/112\u001b[0m \u001b[32m━━━━━━━━━━━━━━━━━━━━\u001b[0m\u001b[37m\u001b[0m \u001b[1m1s\u001b[0m 7ms/step - accuracy: 1.0000 - loss: 4.1689e-05 - val_accuracy: 0.6996 - val_loss: 1.9513\n",
      "Epoch 22/50\n",
      "\u001b[1m112/112\u001b[0m \u001b[32m━━━━━━━━━━━━━━━━━━━━\u001b[0m\u001b[37m\u001b[0m \u001b[1m1s\u001b[0m 6ms/step - accuracy: 1.0000 - loss: 4.0281e-05 - val_accuracy: 0.7108 - val_loss: 1.9608\n",
      "Epoch 23/50\n",
      "\u001b[1m112/112\u001b[0m \u001b[32m━━━━━━━━━━━━━━━━━━━━\u001b[0m\u001b[37m\u001b[0m \u001b[1m1s\u001b[0m 7ms/step - accuracy: 1.0000 - loss: 3.6182e-05 - val_accuracy: 0.7108 - val_loss: 1.9801\n",
      "Epoch 24/50\n",
      "\u001b[1m112/112\u001b[0m \u001b[32m━━━━━━━━━━━━━━━━━━━━\u001b[0m\u001b[37m\u001b[0m \u001b[1m1s\u001b[0m 7ms/step - accuracy: 1.0000 - loss: 3.2123e-05 - val_accuracy: 0.7063 - val_loss: 1.9817\n",
      "Epoch 25/50\n",
      "\u001b[1m112/112\u001b[0m \u001b[32m━━━━━━━━━━━━━━━━━━━━\u001b[0m\u001b[37m\u001b[0m \u001b[1m1s\u001b[0m 6ms/step - accuracy: 1.0000 - loss: 3.1619e-05 - val_accuracy: 0.7063 - val_loss: 1.9972\n",
      "Epoch 26/50\n",
      "\u001b[1m112/112\u001b[0m \u001b[32m━━━━━━━━━━━━━━━━━━━━\u001b[0m\u001b[37m\u001b[0m \u001b[1m1s\u001b[0m 7ms/step - accuracy: 1.0000 - loss: 2.9596e-05 - val_accuracy: 0.7152 - val_loss: 2.0197\n",
      "Epoch 27/50\n",
      "\u001b[1m112/112\u001b[0m \u001b[32m━━━━━━━━━━━━━━━━━━━━\u001b[0m\u001b[37m\u001b[0m \u001b[1m1s\u001b[0m 7ms/step - accuracy: 1.0000 - loss: 2.7702e-05 - val_accuracy: 0.7040 - val_loss: 2.0477\n",
      "Epoch 28/50\n",
      "\u001b[1m112/112\u001b[0m \u001b[32m━━━━━━━━━━━━━━━━━━━━\u001b[0m\u001b[37m\u001b[0m \u001b[1m1s\u001b[0m 7ms/step - accuracy: 1.0000 - loss: 2.6598e-05 - val_accuracy: 0.7085 - val_loss: 2.0357\n",
      "Epoch 29/50\n",
      "\u001b[1m112/112\u001b[0m \u001b[32m━━━━━━━━━━━━━━━━━━━━\u001b[0m\u001b[37m\u001b[0m \u001b[1m1s\u001b[0m 7ms/step - accuracy: 1.0000 - loss: 2.3899e-05 - val_accuracy: 0.7085 - val_loss: 2.0633\n",
      "Epoch 30/50\n",
      "\u001b[1m112/112\u001b[0m \u001b[32m━━━━━━━━━━━━━━━━━━━━\u001b[0m\u001b[37m\u001b[0m \u001b[1m1s\u001b[0m 7ms/step - accuracy: 1.0000 - loss: 2.2691e-05 - val_accuracy: 0.7040 - val_loss: 2.0746\n",
      "Epoch 31/50\n",
      "\u001b[1m112/112\u001b[0m \u001b[32m━━━━━━━━━━━━━━━━━━━━\u001b[0m\u001b[37m\u001b[0m \u001b[1m1s\u001b[0m 7ms/step - accuracy: 1.0000 - loss: 2.2751e-05 - val_accuracy: 0.7040 - val_loss: 2.0715\n",
      "Epoch 32/50\n",
      "\u001b[1m112/112\u001b[0m \u001b[32m━━━━━━━━━━━━━━━━━━━━\u001b[0m\u001b[37m\u001b[0m \u001b[1m1s\u001b[0m 8ms/step - accuracy: 1.0000 - loss: 1.9831e-05 - val_accuracy: 0.7085 - val_loss: 2.0784\n",
      "Epoch 33/50\n",
      "\u001b[1m112/112\u001b[0m \u001b[32m━━━━━━━━━━━━━━━━━━━━\u001b[0m\u001b[37m\u001b[0m \u001b[1m1s\u001b[0m 7ms/step - accuracy: 1.0000 - loss: 1.9404e-05 - val_accuracy: 0.7085 - val_loss: 2.0934\n",
      "Epoch 34/50\n",
      "\u001b[1m112/112\u001b[0m \u001b[32m━━━━━━━━━━━━━━━━━━━━\u001b[0m\u001b[37m\u001b[0m \u001b[1m1s\u001b[0m 7ms/step - accuracy: 1.0000 - loss: 1.6683e-05 - val_accuracy: 0.7018 - val_loss: 2.1150\n",
      "Epoch 35/50\n",
      "\u001b[1m112/112\u001b[0m \u001b[32m━━━━━━━━━━━━━━━━━━━━\u001b[0m\u001b[37m\u001b[0m \u001b[1m1s\u001b[0m 8ms/step - accuracy: 1.0000 - loss: 1.5442e-05 - val_accuracy: 0.7152 - val_loss: 2.1282\n",
      "Epoch 36/50\n",
      "\u001b[1m112/112\u001b[0m \u001b[32m━━━━━━━━━━━━━━━━━━━━\u001b[0m\u001b[37m\u001b[0m \u001b[1m1s\u001b[0m 7ms/step - accuracy: 1.0000 - loss: 1.5370e-05 - val_accuracy: 0.7108 - val_loss: 2.1329\n",
      "Epoch 37/50\n",
      "\u001b[1m112/112\u001b[0m \u001b[32m━━━━━━━━━━━━━━━━━━━━\u001b[0m\u001b[37m\u001b[0m \u001b[1m1s\u001b[0m 8ms/step - accuracy: 1.0000 - loss: 1.4502e-05 - val_accuracy: 0.7108 - val_loss: 2.1435\n",
      "Epoch 38/50\n",
      "\u001b[1m112/112\u001b[0m \u001b[32m━━━━━━━━━━━━━━━━━━━━\u001b[0m\u001b[37m\u001b[0m \u001b[1m1s\u001b[0m 7ms/step - accuracy: 1.0000 - loss: 1.3681e-05 - val_accuracy: 0.7130 - val_loss: 2.1644\n",
      "Epoch 39/50\n",
      "\u001b[1m112/112\u001b[0m \u001b[32m━━━━━━━━━━━━━━━━━━━━\u001b[0m\u001b[37m\u001b[0m \u001b[1m1s\u001b[0m 8ms/step - accuracy: 1.0000 - loss: 1.2587e-05 - val_accuracy: 0.7085 - val_loss: 2.1675\n",
      "Epoch 40/50\n",
      "\u001b[1m112/112\u001b[0m \u001b[32m━━━━━━━━━━━━━━━━━━━━\u001b[0m\u001b[37m\u001b[0m \u001b[1m1s\u001b[0m 7ms/step - accuracy: 1.0000 - loss: 1.1776e-05 - val_accuracy: 0.7085 - val_loss: 2.1827\n",
      "Epoch 41/50\n",
      "\u001b[1m112/112\u001b[0m \u001b[32m━━━━━━━━━━━━━━━━━━━━\u001b[0m\u001b[37m\u001b[0m \u001b[1m1s\u001b[0m 8ms/step - accuracy: 1.0000 - loss: 1.1965e-05 - val_accuracy: 0.7085 - val_loss: 2.1825\n",
      "Epoch 42/50\n",
      "\u001b[1m112/112\u001b[0m \u001b[32m━━━━━━━━━━━━━━━━━━━━\u001b[0m\u001b[37m\u001b[0m \u001b[1m1s\u001b[0m 7ms/step - accuracy: 1.0000 - loss: 1.0597e-05 - val_accuracy: 0.7130 - val_loss: 2.2125\n",
      "Epoch 43/50\n",
      "\u001b[1m112/112\u001b[0m \u001b[32m━━━━━━━━━━━━━━━━━━━━\u001b[0m\u001b[37m\u001b[0m \u001b[1m1s\u001b[0m 7ms/step - accuracy: 1.0000 - loss: 9.8886e-06 - val_accuracy: 0.7063 - val_loss: 2.2127\n",
      "Epoch 44/50\n",
      "\u001b[1m112/112\u001b[0m \u001b[32m━━━━━━━━━━━━━━━━━━━━\u001b[0m\u001b[37m\u001b[0m \u001b[1m1s\u001b[0m 7ms/step - accuracy: 1.0000 - loss: 9.0983e-06 - val_accuracy: 0.7085 - val_loss: 2.2293\n",
      "Epoch 45/50\n",
      "\u001b[1m112/112\u001b[0m \u001b[32m━━━━━━━━━━━━━━━━━━━━\u001b[0m\u001b[37m\u001b[0m \u001b[1m1s\u001b[0m 6ms/step - accuracy: 1.0000 - loss: 8.3889e-06 - val_accuracy: 0.7108 - val_loss: 2.2414\n",
      "Epoch 46/50\n",
      "\u001b[1m112/112\u001b[0m \u001b[32m━━━━━━━━━━━━━━━━━━━━\u001b[0m\u001b[37m\u001b[0m \u001b[1m1s\u001b[0m 9ms/step - accuracy: 1.0000 - loss: 8.0390e-06 - val_accuracy: 0.7108 - val_loss: 2.2403\n",
      "Epoch 47/50\n",
      "\u001b[1m112/112\u001b[0m \u001b[32m━━━━━━━━━━━━━━━━━━━━\u001b[0m\u001b[37m\u001b[0m \u001b[1m1s\u001b[0m 7ms/step - accuracy: 1.0000 - loss: 7.0726e-06 - val_accuracy: 0.7085 - val_loss: 2.2505\n",
      "Epoch 48/50\n",
      "\u001b[1m112/112\u001b[0m \u001b[32m━━━━━━━━━━━━━━━━━━━━\u001b[0m\u001b[37m\u001b[0m \u001b[1m1s\u001b[0m 6ms/step - accuracy: 1.0000 - loss: 7.1501e-06 - val_accuracy: 0.7018 - val_loss: 2.2694\n",
      "Epoch 49/50\n",
      "\u001b[1m112/112\u001b[0m \u001b[32m━━━━━━━━━━━━━━━━━━━━\u001b[0m\u001b[37m\u001b[0m \u001b[1m1s\u001b[0m 7ms/step - accuracy: 1.0000 - loss: 6.7909e-06 - val_accuracy: 0.7063 - val_loss: 2.2845\n",
      "Epoch 50/50\n",
      "\u001b[1m112/112\u001b[0m \u001b[32m━━━━━━━━━━━━━━━━━━━━\u001b[0m\u001b[37m\u001b[0m \u001b[1m2s\u001b[0m 9ms/step - accuracy: 1.0000 - loss: 6.2226e-06 - val_accuracy: 0.7063 - val_loss: 2.3008\n"
     ]
    }
   ],
   "source": [
    "# Entrenamiento del modelo shuffle=True\n",
    "history_s = model.fit(train_inputs, train_labels, epochs=50, batch_size=16,shuffle=True,validation_data=(val_inputs, val_labels))"
   ]
  },
  {
   "cell_type": "code",
   "execution_count": 190,
   "metadata": {},
   "outputs": [],
   "source": [
    "def plot_training_history(history, history_s):\n",
    "    fig, (ax1, ax2) = plt.subplots(1, 2, figsize=(8, 3))\n",
    "\n",
    "    # Plot training & validation accuracy values from history\n",
    "    ax1.plot(history.history['accuracy'], label='Train (No Shuffle)', color='blue')\n",
    "    ax1.plot(history.history['val_accuracy'], label='Val (No Shuffle)', color='green')\n",
    "    ax1.set_title('Model Accuracy (No Shuffle)')\n",
    "    ax1.set_ylabel('Accuracy')\n",
    "    ax1.set_xlabel('Epoch')\n",
    "    ax1.legend(loc='upper left')\n",
    "\n",
    "    # Plot training & validation accuracy values from history_s\n",
    "    ax2.plot(history_s.history['accuracy'], label='Train (Shuffle)', color='red')\n",
    "    ax2.plot(history_s.history['val_accuracy'], label='Val (Shuffle)', color='orange')\n",
    "    ax2.set_title('Model Accuracy (Shuffle)')\n",
    "    ax2.set_ylabel('Accuracy')\n",
    "    ax2.set_xlabel('Epoch')\n",
    "    ax2.legend(loc='upper left')\n",
    "\n",
    "    # Show the plot\n",
    "    plt.tight_layout()\n",
    "    plt.show()\n",
    "\n",
    "    # Plot training & validation loss values from history\n",
    "    fig, (ax3, ax4) = plt.subplots(1, 2, figsize=(8, 3))\n",
    "\n",
    "    # Plot training & validation loss values from history\n",
    "    ax3.plot(history.history['loss'], label='Train (No Shuffle)', color='blue')\n",
    "    ax3.plot(history.history['val_loss'], label='Val (No Shuffle)', color='green')\n",
    "    ax3.set_title('Model Loss (No Shuffle)')\n",
    "    ax3.set_ylabel('Loss')\n",
    "    ax3.set_xlabel('Epoch')\n",
    "    ax3.legend(loc='upper left')\n",
    "\n",
    "    # Plot training & validation loss values from history_s\n",
    "    ax4.plot(history_s.history['loss'], label='Train (Shuffle)', color='red')\n",
    "    ax4.plot(history_s.history['val_loss'], label='Val (Shuffle)', color='orange')\n",
    "    ax4.set_title('Model Loss (Shuffle)')\n",
    "    ax4.set_ylabel('Loss')\n",
    "    ax4.set_xlabel('Epoch')\n",
    "    ax4.legend(loc='upper left')\n",
    "\n",
    "    # Show the plot\n",
    "    plt.tight_layout()\n",
    "    plt.show()\n"
   ]
  },
  {
   "cell_type": "code",
   "execution_count": 191,
   "metadata": {},
   "outputs": [
    {
     "data": {
      "image/png": "[encoded data removed]",
      "text/plain": [
       "<Figure size 800x300 with 2 Axes>"
      ]
     },
     "metadata": {},
     "output_type": "display_data"
    },
    {
     "data": {
      "image/png": "[encoded data removed]",
      "text/plain": [
       "<Figure size 800x300 with 2 Axes>"
      ]
     },
     "metadata": {},
     "output_type": "display_data"
    }
   ],
   "source": [
    "plot_training_history(history, history_s)"
   ]
  },
  {
   "cell_type": "code",
   "execution_count": 193,
   "metadata": {},
   "outputs": [
    {
     "name": "stdout",
     "output_type": "stream",
     "text": [
      "\u001b[1m14/14\u001b[0m \u001b[32m━━━━━━━━━━━━━━━━━━━━\u001b[0m\u001b[37m\u001b[0m \u001b[1m0s\u001b[0m 5ms/step - accuracy: 0.7320 - loss: 2.3302\n",
      "Test accuracy: 0.7062780261039734\n",
      "Test loss: 2.300757884979248\n"
     ]
    }
   ],
   "source": [
    "test_loss, test_accuracy = model.evaluate(val_inputs, val_labels) #rendimiento del modelo\n",
    "print(f'Test accuracy: {test_accuracy}')\n",
    "print(f'Test loss: {test_loss}')"
   ]
  }
 ],
 "metadata": {
  "kernelspec": {
   "display_name": "Python 3",
   "language": "python",
   "name": "python3"
  },
  "language_info": {
   "codemirror_mode": {
    "name": "ipython",
    "version": 3
   },
   "file_extension": ".py",
   "mimetype": "text/x-python",
   "name": "python",
   "nbconvert_exporter": "python",
   "pygments_lexer": "ipython3",
   "version": "3.9.10"
  }
 },
 "nbformat": 4,
 "nbformat_minor": 2
}
